{
  "cells": [
    {
      "cell_type": "markdown",
      "metadata": {
        "colab_type": "text",
        "id": "view-in-github"
      },
      "source": [
        "<a href=\"https://colab.research.google.com/github/juanpablosotoc/carga-de-datos-con-Pandas/blob/main/Actividad1.ipynb\" target=\"_parent\"><img src=\"https://colab.research.google.com/assets/colab-badge.svg\" alt=\"Open In Colab\"/></a>"
      ]
    },
    {
      "cell_type": "code",
      "execution_count": null,
      "metadata": {
        "colab": {
          "base_uri": "https://localhost:8080/"
        },
        "id": "5zHK8z7p8_a7",
        "outputId": "24ea2051-83fa-49e4-cee0-37726fd80ff8"
      },
      "outputs": [
        {
          "name": "stdout",
          "output_type": "stream",
          "text": [
            "Info del Dataframe\n",
            "<class 'pandas.core.frame.DataFrame'>\n",
            "RangeIndex: 200 entries, 0 to 199\n",
            "Data columns (total 5 columns):\n",
            " #   Column                  Non-Null Count  Dtype \n",
            "---  ------                  --------------  ----- \n",
            " 0   CustomerID              200 non-null    int64 \n",
            " 1   Gender                  200 non-null    object\n",
            " 2   Age                     200 non-null    int64 \n",
            " 3   Annual Income (k$)      200 non-null    int64 \n",
            " 4   Spending Score (1-100)  200 non-null    int64 \n",
            "dtypes: int64(4), object(1)\n",
            "memory usage: 7.9+ KB\n",
            "The CustomerID with the most spendings is N 12 with 99\n",
            "The CustomerID with the lowest spendings is N 157 with 1\n",
            "The average spending score is 50.2\n",
            "The median spending score is 50.0\n",
            "The mode spending score is 0    42\n",
            "Name: Spending Score (1-100), dtype: int64\n",
            "El genero de los clientes se muestra a continuacion:\n",
            "Gender\n",
            "Female    112\n",
            "Male       88\n",
            "Name: count, dtype: int64\n"
          ]
        }
      ],
      "source": [
        "import pandas as pd\n",
        "import numpy as np\n",
        "import matplotlib.pyplot as plt\n",
        "import seaborn as sns\n",
        "\n",
        "df = pd.read_csv(\"./content/mall_cust.csv\")\n",
        "print(\"Info del Dataframe\")\n",
        "df.info()\n",
        "\n",
        "best_customer= df['Spending Score (1-100)'].idxmax()+1\n",
        "worst_customer= df['Spending Score (1-100)'].idxmin()+1\n",
        "c= df['Spending Score (1-100)'].sort_index()\n",
        "h=c.max()\n",
        "l=c.min()\n",
        "avg_spent=df['Spending Score (1-100)'].mean()\n",
        "media_spent=df['Spending Score (1-100)'].median()\n",
        "mode_spent=df['Spending Score (1-100)'].mode()\n",
        "\n",
        "print(\"The CustomerID with the most spendings is N\",best_customer, \"with\", h)\n",
        "print(\"The CustomerID with the lowest spendings is N\",worst_customer, \"with\", l)\n",
        "print(\"The average spending score is\", avg_spent)\n",
        "print(\"The median spending score is\", media_spent)\n",
        "print(\"The mode spending score is\", mode_spent)\n",
        "\n",
        "genero = df['Gender'].value_counts()\n",
        "print(\"El genero de los clientes se muestra a continuacion:\")\n",
        "print(genero)\n"
      ]
    },
    {
      "cell_type": "markdown",
      "metadata": {
        "id": "5UbLl6tn_F5R"
      },
      "source": [
        "Con estos datos en mente podemos empezar a dar unos indicios.\n",
        "*   Como la media y la mediana se parecen tenemos datos \"Simetricos\" y nos muestran lo gastado tipicamente por los clientes.\n",
        "*   De igual manera cuando pedimos la informacion del excel a traves de panda nos describe el como no existe ningun contenido nulo\n"
      ]
    }
  ],
  "metadata": {
    "colab": {
      "include_colab_link": true,
      "provenance": []
    },
    "kernelspec": {
      "display_name": "Python 3",
      "name": "python3"
    },
    "language_info": {
      "name": "python"
    }
  },
  "nbformat": 4,
  "nbformat_minor": 0
}
